{
  "nbformat": 4,
  "nbformat_minor": 0,
  "metadata": {
    "colab": {
      "provenance": [],
      "authorship_tag": "ABX9TyMn6NpQmI2VLKfD8lPJCsFV",
      "include_colab_link": true
    },
    "kernelspec": {
      "name": "python3",
      "display_name": "Python 3"
    },
    "language_info": {
      "name": "python"
    }
  },
  "cells": [
    {
      "cell_type": "markdown",
      "metadata": {
        "id": "view-in-github",
        "colab_type": "text"
      },
      "source": [
        "<a href=\"https://colab.research.google.com/github/TobiasLozano/evaluaciones_python_202520/blob/main/Evaluaci%C3%B3n_3.ipynb\" target=\"_parent\"><img src=\"https://colab.research.google.com/assets/colab-badge.svg\" alt=\"Open In Colab\"/></a>"
      ]
    },
    {
      "cell_type": "markdown",
      "source": [
        "Evaluación 3 Python aplicado a la Ingeniería 202520\n",
        "\n",
        "Docente: Miguel Ortiz Padilla\n",
        "\n",
        "Estudiante: Tobias Lozano Florez\n",
        "\n",
        "email: tobias.lozano@upb.edu.co\n",
        "\n",
        "Fecha: 10/09/2025"
      ],
      "metadata": {
        "id": "afO50U7sNAsQ"
      }
    },
    {
      "cell_type": "markdown",
      "source": [
        "**Parte 1**"
      ],
      "metadata": {
        "id": "eXVI_-PINPQO"
      }
    },
    {
      "cell_type": "code",
      "source": [
        "import numpy as np\n",
        "import os\n",
        "\n",
        "def filter_data_by_date(filepath, year, month, day):\n",
        "    \"\"\"\n",
        "    Filtra datos de un archivo CSV por fecha y crea un nuevo archivo con los resultados\n",
        "\n",
        "    Parámetros:\n",
        "    filepath (str): Ruta del archivo CSV\n",
        "    year (int): Año a filtrar\n",
        "    month (int): Mes a filtrar\n",
        "    day (int): Día a filtrar\n",
        "    \"\"\"\n",
        "    try:\n",
        "        # Cargar datos del archivo\n",
        "        data = np.genfromtxt(filepath, delimiter=';', skip_header=1)\n",
        "\n",
        "        # Información sobre los datos cargados\n",
        "        print(f\"Registros cargados: {data.shape[0]}\")\n",
        "\n",
        "        # Filtrar datos por fecha\n",
        "        mask = (data[:, 0] == year) & (data[:, 1] == month) & (data[:, 2] == day)\n",
        "        filtered_data = data[mask]\n",
        "\n",
        "        # Verificar si hay datos\n",
        "        if len(filtered_data) == 0:\n",
        "            print(f\"No se encontraron datos para la fecha {year}-{month:02d}-{day:02d}\")\n",
        "            return\n",
        "\n",
        "        # Crear nombre del archivo de salida\n",
        "        filename = f\"filtered_data_{year}_{month:02d}_{day:02d}.csv\"\n",
        "\n",
        "        # Escribir archivo CSV\n",
        "        with open(filename, 'w', encoding='utf-8') as f:\n",
        "            # Escribir encabezado\n",
        "            f.write(\"Year,Month,Day,Hour,Temperature,GHI\\n\")\n",
        "\n",
        "            # Escribir datos\n",
        "            for row in filtered_data:\n",
        "                f.write(f\"{int(row[0])},{int(row[1])},{int(row[2])},{int(row[3])},{row[4]:.2f},{row[5]:.2f}\\n\")\n",
        "\n",
        "        print(f\"El archivo {filename} fue creado exitosamente!\")\n",
        "        print(f\"Registros encontrados: {len(filtered_data)}\")\n",
        "\n",
        "        # Información adicional (opcional)\n",
        "        temp_promedio = np.mean(filtered_data[:, 4])\n",
        "        ghi_maximo = np.max(filtered_data[:, 5])\n",
        "        print(f\"Temperatura promedio: {temp_promedio:.2f} °C\")\n",
        "        print(f\"Radiación máxima: {ghi_maximo:.2f} W/m²\")\n",
        "\n",
        "        return filtered_data\n",
        "\n",
        "    except FileNotFoundError:\n",
        "        print(f\"Error: No se encontró el archivo '{filepath}'\")\n",
        "    except IndexError:\n",
        "        print(\"Error: El archivo no tiene el formato esperado\")\n",
        "    except Exception as e:\n",
        "        print(f\"Error inesperado: {e}\")\n",
        "\n",
        "# Pruebas de la función\n",
        "if __name__ == \"__main__\":\n",
        "    # Prueba con fecha existente\n",
        "    print(\"=== Prueba con fecha existente (2024-01-01) ===\")\n",
        "    datos_filtrados = filter_data_by_date(\"GHI_Temp_Daily_Hourly_2024.csv\", 2024, 1, 1)\n",
        "\n",
        "    # Prueba con fecha que no existe\n",
        "    print(\"\\n=== Prueba con fecha inexistente (2024-02-30) ===\")\n",
        "    filter_data_by_date(\"GHI_Temp_Daily_Hourly_2024.csv\", 2024, 2, 30)\n",
        "\n",
        "    # Prueba con archivo que no existe\n",
        "    print(\"\\n=== Prueba con archivo inexistente ===\")\n",
        "    filter_data_by_date(\"archivo_inexistente.csv\", 2024, 1, 1)\n",
        "\n",
        "    # Prueba con otra fecha válida\n",
        "    print(\"\\n=== Prueba con otra fecha válida (2024-01-02) ===\")\n",
        "    filter_data_by_date(\"GHI_Temp_Daily_Hourly_2024.csv\", 2024, 1, 2)"
      ],
      "metadata": {
        "id": "t6MYQRoKNTyG"
      },
      "execution_count": null,
      "outputs": []
    }
  ]
}